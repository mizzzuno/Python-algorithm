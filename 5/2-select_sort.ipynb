{
 "cells": [
  {
   "cell_type": "code",
   "execution_count": 17,
   "id": "ccfe4ca9",
   "metadata": {},
   "outputs": [
    {
     "name": "stdout",
     "output_type": "stream",
     "text": [
      "6 3\n",
      "3 2\n",
      "2 1\n",
      "1 0\n",
      "[0, 3, 5, 2, 9, 7, 8, 1, 4, 6]\n",
      "3 2\n",
      "2 1\n",
      "[0, 1, 5, 2, 9, 7, 8, 3, 4, 6]\n",
      "5 2\n",
      "[0, 1, 2, 5, 9, 7, 8, 3, 4, 6]\n",
      "5 3\n",
      "[0, 1, 2, 3, 9, 7, 8, 5, 4, 6]\n",
      "9 7\n",
      "7 5\n",
      "5 4\n",
      "[0, 1, 2, 3, 4, 7, 8, 5, 9, 6]\n",
      "7 5\n",
      "[0, 1, 2, 3, 4, 5, 8, 7, 9, 6]\n",
      "8 7\n",
      "7 6\n",
      "[0, 1, 2, 3, 4, 5, 6, 7, 9, 8]\n",
      "[0, 1, 2, 3, 4, 5, 6, 7, 9, 8]\n",
      "9 8\n",
      "[0, 1, 2, 3, 4, 5, 6, 7, 8, 9]\n",
      "[0, 1, 2, 3, 4, 5, 6, 7, 8, 9]\n",
      "[0, 1, 2, 3, 4, 5, 6, 7, 8, 9]\n"
     ]
    }
   ],
   "source": [
    "# 選択ソート\n",
    "def select_sort(data):\n",
    "    for i in range(len(data)):\n",
    "        min = i\n",
    "        for j in range(i + 1, len(data)):\n",
    "            if data[min] > data[j]:\n",
    "                print(data[min], data[j])\n",
    "                min = j\n",
    "        data[min], data[i] = data[i], data[min]\n",
    "        print(data)\n",
    "    return data\n",
    "\n",
    "def main():\n",
    "    data = [6, 3, 5, 2, 9, 7, 8, 1, 4, 0]\n",
    "    print(select_sort(data))\n",
    "\n",
    "if __name__ == '__main__':\n",
    "    main()"
   ]
  }
 ],
 "metadata": {
  "kernelspec": {
   "display_name": "Python 3",
   "language": "python",
   "name": "python3"
  },
  "language_info": {
   "codemirror_mode": {
    "name": "ipython",
    "version": 3
   },
   "file_extension": ".py",
   "mimetype": "text/x-python",
   "name": "python",
   "nbconvert_exporter": "python",
   "pygments_lexer": "ipython3",
   "version": "3.13.7"
  }
 },
 "nbformat": 4,
 "nbformat_minor": 5
}
