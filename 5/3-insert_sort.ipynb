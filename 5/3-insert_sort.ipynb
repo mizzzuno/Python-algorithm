{
 "cells": [
  {
   "cell_type": "code",
   "execution_count": 19,
   "id": "fd132cd7",
   "metadata": {},
   "outputs": [
    {
     "name": "stdout",
     "output_type": "stream",
     "text": [
      "[0, 1, 2, 3, 4, 5, 6, 7, 8, 9]\n"
     ]
    }
   ],
   "source": [
    "# 挿入ソート\n",
    "def insert_sort(data):\n",
    "    for i in range(1, len(data)):\n",
    "        temp = data[i]\n",
    "        j = i - 1\n",
    "        while j >= 0 and data[j] > temp:\n",
    "            data[j + 1] = data[j]\n",
    "            data[j] = temp\n",
    "            j -= 1\n",
    "    return data\n",
    "\n",
    "def main():\n",
    "    data = [6, 3, 5, 2, 9, 7, 8, 1, 4, 0]\n",
    "    print(insert_sort(data))\n",
    "\n",
    "if __name__ == '__main__':\n",
    "    main()"
   ]
  },
  {
   "cell_type": "code",
   "execution_count": null,
   "id": "3c2c2d81",
   "metadata": {},
   "outputs": [],
   "source": []
  }
 ],
 "metadata": {
  "kernelspec": {
   "display_name": "Python 3",
   "language": "python",
   "name": "python3"
  },
  "language_info": {
   "codemirror_mode": {
    "name": "ipython",
    "version": 3
   },
   "file_extension": ".py",
   "mimetype": "text/x-python",
   "name": "python",
   "nbconvert_exporter": "python",
   "pygments_lexer": "ipython3",
   "version": "3.13.7"
  }
 },
 "nbformat": 4,
 "nbformat_minor": 5
}
