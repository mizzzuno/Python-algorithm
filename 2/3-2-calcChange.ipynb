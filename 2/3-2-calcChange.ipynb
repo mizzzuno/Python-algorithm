{
 "cells": [
  {
   "cell_type": "code",
   "execution_count": null,
   "id": "2ba4c1cb",
   "metadata": {},
   "outputs": [
    {
     "name": "stdout",
     "output_type": "stream",
     "text": [
      "0\n",
      "0\n",
      "1\n",
      "1\n",
      "3\n",
      "0\n",
      "0\n",
      "0\n",
      "0\n"
     ]
    }
   ],
   "source": [
    "def calcChange(change):\n",
    "    coins = [10000, 5000, 1000, 500, 100, 50, 10, 5, 1]\n",
    "    export_coins = []\n",
    "    for i in coins:\n",
    "        print(change // i )\n",
    "        change %= i\n",
    "\n",
    "def main():\n",
    "    inputPrice = int(input(\"投入金額\"))\n",
    "    price = int(input(\"商品の金額\"))\n",
    "    calcChange(inputPrice-price)\n",
    "\n",
    "if __name__ == \"__main__\":\n",
    "    main()"
   ]
  },
  {
   "cell_type": "code",
   "execution_count": null,
   "id": "09f5c1c2",
   "metadata": {},
   "outputs": [],
   "source": []
  }
 ],
 "metadata": {
  "kernelspec": {
   "display_name": "Python 3",
   "language": "python",
   "name": "python3"
  },
  "language_info": {
   "codemirror_mode": {
    "name": "ipython",
    "version": 3
   },
   "file_extension": ".py",
   "mimetype": "text/x-python",
   "name": "python",
   "nbconvert_exporter": "python",
   "pygments_lexer": "ipython3",
   "version": "3.13.7"
  }
 },
 "nbformat": 4,
 "nbformat_minor": 5
}
