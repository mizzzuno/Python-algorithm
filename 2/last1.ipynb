{
 "cells": [
  {
   "cell_type": "code",
   "execution_count": null,
   "id": "4ca691ef",
   "metadata": {},
   "outputs": [
    {
     "name": "stdout",
     "output_type": "stream",
     "text": [
      "1952\n",
      "1956\n",
      "1960\n",
      "1964\n",
      "1968\n",
      "1972\n",
      "1976\n",
      "1980\n",
      "1984\n",
      "1988\n",
      "1992\n",
      "1996\n",
      "2000\n",
      "2004\n",
      "2008\n",
      "2012\n",
      "2016\n",
      "2020\n",
      "2024\n",
      "2028\n",
      "2032\n",
      "2036\n",
      "2040\n",
      "2044\n",
      "2048\n"
     ]
    }
   ],
   "source": [
    "#1950年から2050年までの閏年を出力\n",
    "# 4で割り切れる年は閏年\n",
    "# 100で割り切れて400で割り切れないとしは閏年ではない\n",
    "\n",
    "def uruu():\n",
    "    for i in range(1950, 2051):\n",
    "        if i % 4 == 0:\n",
    "            if i % 100 == 0 and i % 400 != 0:\n",
    "                continue\n",
    "            print(i)\n",
    "\n",
    "def main():\n",
    "    uruu()\n",
    "\n",
    "if __name__ == '__main__':\n",
    "    main()"
   ]
  },
  {
   "cell_type": "code",
   "execution_count": null,
   "id": "1d88e2ce",
   "metadata": {},
   "outputs": [],
   "source": []
  }
 ],
 "metadata": {
  "kernelspec": {
   "display_name": "Python 3",
   "language": "python",
   "name": "python3"
  },
  "language_info": {
   "codemirror_mode": {
    "name": "ipython",
    "version": 3
   },
   "file_extension": ".py",
   "mimetype": "text/x-python",
   "name": "python",
   "nbconvert_exporter": "python",
   "pygments_lexer": "ipython3",
   "version": "3.13.7"
  }
 },
 "nbformat": 4,
 "nbformat_minor": 5
}
