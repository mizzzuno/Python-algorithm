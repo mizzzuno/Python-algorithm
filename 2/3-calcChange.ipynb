{
 "cells": [
  {
   "cell_type": "code",
   "execution_count": 8,
   "id": "cbfe702f",
   "metadata": {},
   "outputs": [
    {
     "name": "stdout",
     "output_type": "stream",
     "text": [
      "0 0 0 1 3 0 3 0 0\n"
     ]
    }
   ],
   "source": [
    "def calcExchange(exchange):\n",
    "\n",
    "    s10000: int = 0\n",
    "    s5000: int = 0\n",
    "    s1000: int = 0\n",
    "    s500: int = 0\n",
    "    s100: int = 0\n",
    "    s50: int = 0\n",
    "    s10: int = 0\n",
    "    s5: int = 0\n",
    "    s1: int = exchange\n",
    "    exchange:int =  s1\n",
    "\n",
    "    if exchange >= 10000:\n",
    "        s10000 = exchange // 10000\n",
    "        exchange -= s10000 * 10000\n",
    "    if exchange >= 5000:\n",
    "        s5000 = 1\n",
    "        exchange -= 5000\n",
    "    if exchange >= 1000:\n",
    "        s1000 = exchange // 1000\n",
    "        exchange -= s1000 * 1000\n",
    "    if exchange >= 500:\n",
    "        s500 = 1\n",
    "        exchange -= 500\n",
    "    if exchange >= 100:\n",
    "        s100 = exchange // 100\n",
    "        exchange -= s100 * 100\n",
    "    if exchange >= 50:\n",
    "        s50 = 1\n",
    "        exchange -= 50\n",
    "    if exchange >= 10:\n",
    "        s10 = exchange // 10\n",
    "        exchange -= s10 * 10\n",
    "    if exchange >= 5:\n",
    "        s5 = 1\n",
    "        exchange -= 5\n",
    "\n",
    "    print(s10000, s5000, s1000, s500, s100, s50, s10, s5, exchange)\n",
    "    \n",
    "\n",
    "\n",
    "def main():\n",
    "    inputValue = int(input(\"投入した金額を入力\")) #投入する金額\n",
    "    value = int(input(\"商品の値段を入力\"))# 商品の値段\n",
    "    calcExchange(inputValue-value)\n",
    "\n",
    "if __name__ == \"__main__\":\n",
    "    main()"
   ]
  },
  {
   "cell_type": "code",
   "execution_count": null,
   "id": "5e6c76d3",
   "metadata": {},
   "outputs": [],
   "source": []
  }
 ],
 "metadata": {
  "kernelspec": {
   "display_name": "Python 3",
   "language": "python",
   "name": "python3"
  },
  "language_info": {
   "codemirror_mode": {
    "name": "ipython",
    "version": 3
   },
   "file_extension": ".py",
   "mimetype": "text/x-python",
   "name": "python",
   "nbconvert_exporter": "python",
   "pygments_lexer": "ipython3",
   "version": "3.13.7"
  }
 },
 "nbformat": 4,
 "nbformat_minor": 5
}
