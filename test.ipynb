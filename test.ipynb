{
 "cells": [
  {
   "cell_type": "code",
   "id": "16b0a7e7",
   "metadata": {
    "jupyter": {
     "is_executing": true
    }
   },
   "source": "import numpy as np",
   "outputs": [],
   "execution_count": null
  },
  {
   "cell_type": "code",
   "id": "92dc115d",
   "metadata": {
    "jupyter": {
     "is_executing": true
    }
   },
   "source": "print(\"Hello World\")",
   "outputs": [],
   "execution_count": null
  },
  {
   "metadata": {},
   "cell_type": "code",
   "outputs": [],
   "execution_count": null,
   "source": "",
   "id": "ccc37103c5e4ac01"
  }
 ],
 "metadata": {
  "kernelspec": {
   "display_name": "Python 3",
   "language": "python",
   "name": "python3"
  },
  "language_info": {
   "codemirror_mode": {
    "name": "ipython",
    "version": 3
   },
   "file_extension": ".py",
   "mimetype": "text/x-python",
   "name": "python",
   "nbconvert_exporter": "python",
   "pygments_lexer": "ipython3",
   "version": "3.13.7"
  }
 },
 "nbformat": 4,
 "nbformat_minor": 5
}
