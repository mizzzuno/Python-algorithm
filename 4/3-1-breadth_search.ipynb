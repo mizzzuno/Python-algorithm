{
 "cells": [
  {
   "cell_type": "code",
   "execution_count": 16,
   "id": "3f3ae119",
   "metadata": {},
   "outputs": [
    {
     "name": "stdout",
     "output_type": "stream",
     "text": [
      "tree: [[1, 2], [3, 4], [5, 6], [7, 8], [9, 10], [11, 12], [13, 14], [], [], [], [], [], [], [], []]\n",
      "treeの値: [0, 1, 2, 3, 4, 5, 6, 7, 8, 9, 10, 11, 12, 13, 14]\n",
      "現在のノード番号: 0, ノードの値: 0\n",
      "現在のノード番号: 1, ノードの値: 1\n",
      "現在のノード番号: 2, ノードの値: 2\n",
      "現在のノード番号: 3, ノードの値: 3\n",
      "現在のノード番号: 4, ノードの値: 4\n",
      "現在のノード番号: 5, ノードの値: 5\n",
      "現在のノード番号: 6, ノードの値: 6\n",
      "現在のノード番号: 7, ノードの値: 7\n",
      "ターゲット値7のindex番号は7です。\n"
     ]
    }
   ],
   "source": [
    "#幅優先探索\n",
    "\n",
    "def breadth_search(target, tree, values):\n",
    "    data = [0]\n",
    "    while len(data) > 0:\n",
    "        pos = data.pop(0)\n",
    "        print(f\"現在のノード番号: {pos}, ノードの値: {values[pos]}\")\n",
    "        if values[pos] == target:\n",
    "            return pos\n",
    "        else:\n",
    "            for i in tree[pos]:\n",
    "                data.append(i)\n",
    "    \n",
    "\n",
    "def main():\n",
    "    tree = [[1,2], [3,4], [5,6], [7,8], [9,10], [11,12], [13,14], [], [], [], [], [], [], [], []]\n",
    "    values = list(range(len(tree)))\n",
    "    print(f\"tree: {tree}\")\n",
    "    print(f\"treeの値: {values}\")\n",
    "    target = int(input('target'))\n",
    "    node_number = breadth_search(target, tree, values)\n",
    "    print(f\"ターゲット値{target}のindex番号は{node_number}です。\")\n",
    "\n",
    "if __name__ == '__main__':\n",
    "    main()\n"
   ]
  },
  {
   "cell_type": "markdown",
   "id": "3601d659",
   "metadata": {},
   "source": [
    "## テスト（1回目）"
   ]
  },
  {
   "cell_type": "code",
   "execution_count": 9,
   "id": "360f8d3b",
   "metadata": {},
   "outputs": [
    {
     "name": "stdout",
     "output_type": "stream",
     "text": [
      "[0, 10, 20, 30, 40, 50, 60, 70, 80, 90, 100, 110, 120, 130, 140]\n",
      "現在のノード番号: 0, 値: 0\n",
      "現在のノード番号: 1, 値: 10\n",
      "現在のノード番号: 2, 値: 20\n",
      "現在のノード番号: 3, 値: 30\n",
      "現在のノード番号: 4, 値: 40\n",
      "現在のノード番号: 5, 値: 50\n",
      "現在のノード番号: 6, 値: 60\n",
      "60のノード番号は6です。\n"
     ]
    }
   ],
   "source": [
    "def breadth_search(target_value, tree, values):\n",
    "    data = [0]\n",
    "    while(len(data) > 0):\n",
    "        current_node_number = data.pop(0)\n",
    "        print(f\"現在のノード番号: {current_node_number}, 値: {values[current_node_number]}\")\n",
    "        if values[current_node_number] == target_value:\n",
    "            return current_node_number\n",
    "        for i in tree[current_node_number]:\n",
    "            data.append(i)\n",
    "    return -1\n",
    "\n",
    "def main():\n",
    "    tree = [[1,2], [3,4], [5,6], [7,8], [9,10], [11,12], [13,14], [], [], [], [], [], [], [], []]\n",
    "    values = []\n",
    "    value = 0\n",
    "    for i in range(len(tree)):\n",
    "        values.append(value)\n",
    "        value += 10\n",
    "    print(values)\n",
    "    target_value = int(input('input your target value'))\n",
    "    node_number = breadth_search(target_value, tree, values)\n",
    "    print(f\"{target_value}のノード番号は{node_number}です。\")\n",
    "\n",
    "if __name__ == '__main__':\n",
    "    main()"
   ]
  },
  {
   "cell_type": "markdown",
   "id": "ae290450",
   "metadata": {},
   "source": [
    "## テスト(2回目)"
   ]
  },
  {
   "cell_type": "code",
   "execution_count": null,
   "id": "967e038b",
   "metadata": {},
   "outputs": [
    {
     "name": "stdout",
     "output_type": "stream",
     "text": [
      "[[1, 2], [3, 4], [5, 6], [7, 8], [9, 10], [11, 12], [13, 14], [], [], [], [], [], [], [], []]\n",
      "[0, 10, 20, 30, 40, 50, 60, 70, 80, 90, 100, 110, 120, 130, 140]\n",
      "searching   current node number: 0, current value: 0\n",
      "searching   current node number: 1, current value: 10\n",
      "searching   current node number: 2, current value: 20\n",
      "searching   current node number: 3, current value: 30\n",
      "searching   current node number: 4, current value: 40\n",
      "searching   current node number: 5, current value: 50\n",
      "searching   current node number: 6, current value: 60\n",
      "Your target value (60) is in node number 6\n"
     ]
    }
   ],
   "source": [
    "def breadth_search(target_value, tree, values):\n",
    "    que = [0]\n",
    "\n",
    "    while len(que) > 0:\n",
    "        current_node_number = que.pop(0)\n",
    "        current_value = values[current_node_number]\n",
    "        print(f\"searching   current node number: {current_node_number}, current value: {current_value}\")\n",
    "        if values[current_node_number] == target_value:\n",
    "            return current_node_number\n",
    "        for i in tree[current_node_number]:\n",
    "            que.append(i)\n",
    "    return -1\n",
    "\n",
    "def create_tree():\n",
    "    tree = [[1,2], [3,4], [5,6], [7,8], [9,10], [11,12], [13,14], [], [], [], [], [], [], [], []]\n",
    "    values = []\n",
    "    value = 0\n",
    "    for i in range(len(tree)):\n",
    "        values.append(value)\n",
    "        value += 10\n",
    "    print(tree)\n",
    "    print(values)\n",
    "    return tree, values\n",
    "\n",
    "def main():\n",
    "    tree, values = create_tree()\n",
    "    target_value = int(input('input your target value'))\n",
    "    target_node_number = breadth_search(target_value, tree, values)\n",
    "    if target_node_number == -1:\n",
    "        print(\"target value was not found\")\n",
    "    else:\n",
    "        print(f\"Your target value ({target_value}) is in node number {target_node_number}\")\n",
    "\n",
    "if __name__ == '__main__':\n",
    "    main()"
   ]
  },
  {
   "cell_type": "code",
   "execution_count": null,
   "id": "ffb50c9d",
   "metadata": {},
   "outputs": [],
   "source": []
  }
 ],
 "metadata": {
  "kernelspec": {
   "display_name": "Python 3",
   "language": "python",
   "name": "python3"
  },
  "language_info": {
   "codemirror_mode": {
    "name": "ipython",
    "version": 3
   },
   "file_extension": ".py",
   "mimetype": "text/x-python",
   "name": "python",
   "nbconvert_exporter": "python",
   "pygments_lexer": "ipython3",
   "version": "3.13.7"
  }
 },
 "nbformat": 4,
 "nbformat_minor": 5
}
