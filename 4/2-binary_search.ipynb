{
 "cells": [
  {
   "cell_type": "code",
   "execution_count": 16,
   "id": "d9d833ee",
   "metadata": {},
   "outputs": [
    {
     "name": "stdout",
     "output_type": "stream",
     "text": [
      "6は5番に格納されています。\n"
     ]
    }
   ],
   "source": [
    "def binary_search(data, value):\n",
    "    left = 0\n",
    "    right = len(data) - 1\n",
    "    while(left <= right):\n",
    "        mid = (right + left) // 2\n",
    "        if data[mid] == value:\n",
    "            return mid\n",
    "        elif value < data[mid]:\n",
    "            right = mid - 1\n",
    "        else:\n",
    "            left = mid + 1\n",
    "    return -1\n",
    "\n",
    "def main():\n",
    "    data = [1, 2, 3, 4, 5, 6, 7, 8, 9]\n",
    "    value = int(input('探したい値を入力'))\n",
    "    print(f\"{value}は{binary_search(data, value)}番に格納されています。\")\n",
    "\n",
    "if __name__ == '__main__':\n",
    "    main()"
   ]
  }
 ],
 "metadata": {
  "kernelspec": {
   "display_name": "Python 3",
   "language": "python",
   "name": "python3"
  },
  "language_info": {
   "codemirror_mode": {
    "name": "ipython",
    "version": 3
   },
   "file_extension": ".py",
   "mimetype": "text/x-python",
   "name": "python",
   "nbconvert_exporter": "python",
   "pygments_lexer": "ipython3",
   "version": "3.13.7"
  }
 },
 "nbformat": 4,
 "nbformat_minor": 5
}
