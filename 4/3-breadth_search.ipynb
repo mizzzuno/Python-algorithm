{
 "cells": [
  {
   "cell_type": "code",
   "execution_count": 16,
   "id": "3f3ae119",
   "metadata": {},
   "outputs": [
    {
     "name": "stdout",
     "output_type": "stream",
     "text": [
      "tree: [[1, 2], [3, 4], [5, 6], [7, 8], [9, 10], [11, 12], [13, 14], [], [], [], [], [], [], [], []]\n",
      "treeの値: [0, 1, 2, 3, 4, 5, 6, 7, 8, 9, 10, 11, 12, 13, 14]\n",
      "現在のノード番号: 0, ノードの値: 0\n",
      "現在のノード番号: 1, ノードの値: 1\n",
      "現在のノード番号: 2, ノードの値: 2\n",
      "現在のノード番号: 3, ノードの値: 3\n",
      "現在のノード番号: 4, ノードの値: 4\n",
      "現在のノード番号: 5, ノードの値: 5\n",
      "現在のノード番号: 6, ノードの値: 6\n",
      "現在のノード番号: 7, ノードの値: 7\n",
      "ターゲット値7のindex番号は7です。\n"
     ]
    }
   ],
   "source": [
    "#幅優先探索\n",
    "\n",
    "def breadth_search(target, tree, values):\n",
    "    data = [0]\n",
    "    while len(data) > 0:\n",
    "        pos = data.pop(0)\n",
    "        print(f\"現在のノード番号: {pos}, ノードの値: {values[pos]}\")\n",
    "        if values[pos] == target:\n",
    "            return pos\n",
    "        else:\n",
    "            for i in tree[pos]:\n",
    "                data.append(i)\n",
    "    \n",
    "\n",
    "def main():\n",
    "    tree = [[1,2], [3,4], [5,6], [7,8], [9,10], [11,12], [13,14], [], [], [], [], [], [], [], []]\n",
    "    values = list(range(len(tree)))\n",
    "    print(f\"tree: {tree}\")\n",
    "    print(f\"treeの値: {values}\")\n",
    "    target = int(input('target'))\n",
    "    node_number = breadth_search(target, tree, values)\n",
    "    print(f\"ターゲット値{target}のindex番号は{node_number}です。\")\n",
    "\n",
    "if __name__ == '__main__':\n",
    "    main()\n"
   ]
  }
 ],
 "metadata": {
  "kernelspec": {
   "display_name": "Python 3",
   "language": "python",
   "name": "python3"
  },
  "language_info": {
   "codemirror_mode": {
    "name": "ipython",
    "version": 3
   },
   "file_extension": ".py",
   "mimetype": "text/x-python",
   "name": "python",
   "nbconvert_exporter": "python",
   "pygments_lexer": "ipython3",
   "version": "3.13.7"
  }
 },
 "nbformat": 4,
 "nbformat_minor": 5
}
